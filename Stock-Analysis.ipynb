{
 "cells": [
  {
   "cell_type": "code",
   "execution_count": 1,
   "metadata": {},
   "outputs": [],
   "source": [
    "import pandas as pd \n",
    "import numpy as np \n",
    "import matplotlib.pyplot as plt \n",
    "import seaborn as sns \n",
    "from datetime import datetime,timedelta\n",
    "import yfinance as yf \n",
    "from nselib import capital_market \n",
    "import os \n",
    "from lightweight_charts import Chart\n",
    "import vectorbt as vbt \n",
    "from tabulate import tabulate \n",
    "import tqdm as tqdm \n",
    "import talib as ta \n",
    "import time \n",
    "sns.set_style('darkgrid')\n",
    "plt.style.use('ggplot')"
   ]
  },
  {
   "cell_type": "code",
   "execution_count": 2,
   "metadata": {},
   "outputs": [
    {
     "name": "stdout",
     "output_type": "stream",
     "text": [
      "Folder present\n"
     ]
    }
   ],
   "source": [
    "os.getcwd()\n",
    "if not os.path.exists(\"data\"):\n",
    "    os.mkdir('data')\n",
    "else:\n",
    "    print(\"Folder present\")"
   ]
  },
  {
   "cell_type": "code",
   "execution_count": 6,
   "metadata": {},
   "outputs": [
    {
     "name": "stdout",
     "output_type": "stream",
     "text": [
      "╒═════════╤════════════╕\n",
      "│   index │ symbols    │\n",
      "╞═════════╪════════════╡\n",
      "│       0 │ ADANIENT   │\n",
      "├─────────┼────────────┤\n",
      "│       1 │ ADANIPORTS │\n",
      "├─────────┼────────────┤\n",
      "│       2 │ APOLLOHOSP │\n",
      "├─────────┼────────────┤\n",
      "│       3 │ ASIANPAINT │\n",
      "├─────────┼────────────┤\n",
      "│       4 │ AXISBANK   │\n",
      "├─────────┼────────────┤\n",
      "│       5 │ BAJAJ-AUTO │\n",
      "├─────────┼────────────┤\n",
      "│       6 │ BAJFINANCE │\n",
      "├─────────┼────────────┤\n",
      "│       7 │ BAJAJFINSV │\n",
      "├─────────┼────────────┤\n",
      "│       8 │ BPCL       │\n",
      "├─────────┼────────────┤\n",
      "│       9 │ BHARTIARTL │\n",
      "├─────────┼────────────┤\n",
      "│      10 │ BRITANNIA  │\n",
      "├─────────┼────────────┤\n",
      "│      11 │ CIPLA      │\n",
      "├─────────┼────────────┤\n",
      "│      12 │ COALINDIA  │\n",
      "├─────────┼────────────┤\n",
      "│      13 │ DIVISLAB   │\n",
      "├─────────┼────────────┤\n",
      "│      14 │ DRREDDY    │\n",
      "├─────────┼────────────┤\n",
      "│      15 │ EICHERMOT  │\n",
      "├─────────┼────────────┤\n",
      "│      16 │ GRASIM     │\n",
      "├─────────┼────────────┤\n",
      "│      17 │ HCLTECH    │\n",
      "├─────────┼────────────┤\n",
      "│      18 │ HDFCBANK   │\n",
      "├─────────┼────────────┤\n",
      "│      19 │ HDFCLIFE   │\n",
      "├─────────┼────────────┤\n",
      "│      20 │ HEROMOTOCO │\n",
      "├─────────┼────────────┤\n",
      "│      21 │ HINDALCO   │\n",
      "├─────────┼────────────┤\n",
      "│      22 │ HINDUNILVR │\n",
      "├─────────┼────────────┤\n",
      "│      23 │ ICICIBANK  │\n",
      "├─────────┼────────────┤\n",
      "│      24 │ ITC        │\n",
      "├─────────┼────────────┤\n",
      "│      25 │ INDUSINDBK │\n",
      "├─────────┼────────────┤\n",
      "│      26 │ INFY       │\n",
      "├─────────┼────────────┤\n",
      "│      27 │ JSWSTEEL   │\n",
      "├─────────┼────────────┤\n",
      "│      28 │ KOTAKBANK  │\n",
      "├─────────┼────────────┤\n",
      "│      29 │ LTIM       │\n",
      "├─────────┼────────────┤\n",
      "│      30 │ LT         │\n",
      "├─────────┼────────────┤\n",
      "│      31 │ M&M        │\n",
      "├─────────┼────────────┤\n",
      "│      32 │ MARUTI     │\n",
      "├─────────┼────────────┤\n",
      "│      33 │ NTPC       │\n",
      "├─────────┼────────────┤\n",
      "│      34 │ NESTLEIND  │\n",
      "├─────────┼────────────┤\n",
      "│      35 │ ONGC       │\n",
      "├─────────┼────────────┤\n",
      "│      36 │ POWERGRID  │\n",
      "├─────────┼────────────┤\n",
      "│      37 │ RELIANCE   │\n",
      "├─────────┼────────────┤\n",
      "│      38 │ SBILIFE    │\n",
      "├─────────┼────────────┤\n",
      "│      39 │ SBIN       │\n",
      "├─────────┼────────────┤\n",
      "│      40 │ SUNPHARMA  │\n",
      "├─────────┼────────────┤\n",
      "│      41 │ TCS        │\n",
      "├─────────┼────────────┤\n",
      "│      42 │ TATACONSUM │\n",
      "├─────────┼────────────┤\n",
      "│      43 │ TATAMOTORS │\n",
      "├─────────┼────────────┤\n",
      "│      44 │ TATASTEEL  │\n",
      "├─────────┼────────────┤\n",
      "│      45 │ TECHM      │\n",
      "├─────────┼────────────┤\n",
      "│      46 │ TITAN      │\n",
      "├─────────┼────────────┤\n",
      "│      47 │ UPL        │\n",
      "├─────────┼────────────┤\n",
      "│      48 │ ULTRACEMCO │\n",
      "├─────────┼────────────┤\n",
      "│      49 │ WIPRO      │\n",
      "╘═════════╧════════════╛\n"
     ]
    }
   ],
   "source": [
    "#getting All symbols\n",
    "nifty_50=capital_market.nifty50_equity_list()['Symbol']\n",
    "a=[[i] for i in nifty_50]\n",
    "head=['index','symbols']\n",
    "nf=[['ayush'],['motusu'],['harshit'],['nani'],['mami']]\n",
    "print(tabulate(a, headers=head, tablefmt=\"fancy_grid\",showindex=True))\n"
   ]
  },
  {
   "cell_type": "code",
   "execution_count": 8,
   "metadata": {},
   "outputs": [],
   "source": [
    "class download_symb:\n",
    "    def __init__(self,symbol):\n",
    "        self.symbol=symbol\n",
    "    def symb(self):\n",
    "        end_date=datetime.now().date()\n",
    "        start_date=end_date-timedelta(days=7)\n",
    "        try:\n",
    "            data_sym=yf.download(f'{self.symbol}.NS',start=start_date,end=end_date,interval=\"5m\")\n",
    "            data=data_sym.to_parquet(f'data/{self.symbol}.parquet')\n",
    "            data=pd.read_parquet(f'data/{self.symbol}.parquet')\n",
    "        except Exception as e:\n",
    "            continue"
   ]
  },
  {
   "cell_type": "code",
   "execution_count": null,
   "metadata": {},
   "outputs": [],
   "source": []
  },
  {
   "cell_type": "code",
   "execution_count": null,
   "metadata": {},
   "outputs": [],
   "source": []
  }
 ],
 "metadata": {
  "kernelspec": {
   "display_name": "base",
   "language": "python",
   "name": "python3"
  },
  "language_info": {
   "codemirror_mode": {
    "name": "ipython",
    "version": 3
   },
   "file_extension": ".py",
   "mimetype": "text/x-python",
   "name": "python",
   "nbconvert_exporter": "python",
   "pygments_lexer": "ipython3",
   "version": "3.11.5"
  }
 },
 "nbformat": 4,
 "nbformat_minor": 2
}
